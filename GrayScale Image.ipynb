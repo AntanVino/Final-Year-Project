{
  "nbformat": 4,
  "nbformat_minor": 0,
  "metadata": {
    "colab": {
      "provenance": [],
      "authorship_tag": "ABX9TyOmi1V6Snxtb68NyLP3T+24"
    },
    "kernelspec": {
      "name": "python3",
      "display_name": "Python 3"
    },
    "language_info": {
      "name": "python"
    }
  },
  "cells": [
    {
      "cell_type": "code",
      "execution_count": null,
      "metadata": {
        "id": "-7ItLVJLzuKP"
      },
      "outputs": [],
      "source": []
    },
    {
      "cell_type": "code",
      "source": [
        "import cv2\n",
        "import numpy as np\n",
        "from matplotlib import pyplot as plt\n",
        "\n",
        "# Read the image\n",
        "image = cv2.imread('segmented_image.png')\n",
        "\n",
        "# Check if the image is loaded successfully\n",
        "if image is None:\n",
        "    print(\"Error: Image not loaded.\")\n",
        "    exit()\n",
        "\n",
        "# Create an image with a light blue background\n",
        "height, width, _ = image.shape\n",
        "light_blue_background = np.ones((height, width, 3), dtype=np.uint8) * [173, 216, 230]  # RGB values for light blue\n",
        "\n",
        "# Convert the original image to the same data type as the background\n",
        "image = image.astype(np.uint8)\n",
        "\n",
        "# Overlay the original image on the light blue background\n",
        "result_image = cv2.addWeighted(image, 0.7, light_blue_background.astype(np.uint8), 0.3, 0)\n",
        "\n",
        "# Display the results\n",
        "plt.subplot(133), plt.imshow(cv2.cvtColor(result_image, cv2.COLOR_BGR2RGB)), plt.title('Segmented Image')\n",
        "plt.show()\n",
        "\n",
        "\n",
        "cv2.imwrite(\"segmented1_image.png\", result_image)"
      ],
      "metadata": {
        "id": "UdG4UmZ84BBu"
      },
      "execution_count": null,
      "outputs": []
    }
  ]
}